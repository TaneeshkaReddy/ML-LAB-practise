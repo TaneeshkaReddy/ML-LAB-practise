{
 "cells": [
  {
   "cell_type": "code",
   "execution_count": 10,
   "id": "947041b9",
   "metadata": {},
   "outputs": [
    {
     "name": "stdout",
     "output_type": "stream",
     "text": [
      "AND PREDICTIONS:\n",
      "[[0]\n",
      " [0]\n",
      " [0]\n",
      " [1]]\n",
      "OR PREDICTIONS:\n",
      "[[0]\n",
      " [1]\n",
      " [1]\n",
      " [1]]\n"
     ]
    }
   ],
   "source": [
    "import numpy as np\n",
    "\n",
    "def step_func(x):\n",
    "    return np.where(x>=0,1,0)\n",
    "\n",
    "class Perceptron:\n",
    "    def __init__(self,input_size,learning_rate=0.1,epochs=1000):\n",
    "        self.weights=np.zeros((input_size,1))\n",
    "        self.bias=0\n",
    "        self.learning_rate=learning_rate\n",
    "        self.epochs=epochs\n",
    "        \n",
    "    def train(self,X,y):\n",
    "        for _ in range(self.epochs):\n",
    "            for inputs,labels in zip(X,y):\n",
    "                inputs=inputs.reshape(-1,1)\n",
    "                linear_op=np.dot(inputs.T,self.weights)+self.bias\n",
    "                prediction=step_func(linear_op)\n",
    "                \n",
    "                error=labels-prediction\n",
    "                self.weights+=self.learning_rate * error * inputs\n",
    "                self.bias+=self.learning_rate * error \n",
    "                \n",
    "    def predict(self,X):\n",
    "        linear_op=np.dot(X,self.weights)+self.bias\n",
    "        return step_func(linear_op)\n",
    "\n",
    "\n",
    "\n",
    "X_and=np.array([[0,0],[0,1],[1,0],[1,1]])\n",
    "y_and=np.array([[0],[0],[0],[1]])\n",
    "\n",
    "X_or=np.array([[0,0],[0,1],[1,0],[1,1]])\n",
    "y_or=np.array([[0],[1],[1],[1]])\n",
    "\n",
    "pand=Perceptron(input_size=2)\n",
    "pand.train(X_and,y_and)\n",
    "print(\"AND PREDICTIONS:\")\n",
    "print(pand.predict(X_and))\n",
    "\n",
    "por=Perceptron(input_size=2)\n",
    "por.train(X_or,y_or)\n",
    "print(\"OR PREDICTIONS:\")\n",
    "print(por.predict(X_or))\n",
    "    "
   ]
  },
  {
   "cell_type": "code",
   "execution_count": null,
   "id": "0b9fdd33",
   "metadata": {},
   "outputs": [],
   "source": []
  }
 ],
 "metadata": {
  "kernelspec": {
   "display_name": "Python 3 (ipykernel)",
   "language": "python",
   "name": "python3"
  },
  "language_info": {
   "codemirror_mode": {
    "name": "ipython",
    "version": 3
   },
   "file_extension": ".py",
   "mimetype": "text/x-python",
   "name": "python",
   "nbconvert_exporter": "python",
   "pygments_lexer": "ipython3",
   "version": "3.11.5"
  }
 },
 "nbformat": 4,
 "nbformat_minor": 5
}
