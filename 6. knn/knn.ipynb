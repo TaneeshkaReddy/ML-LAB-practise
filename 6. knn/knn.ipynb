{
 "cells": [
  {
   "cell_type": "code",
   "execution_count": 10,
   "id": "ccbce31d",
   "metadata": {},
   "outputs": [
    {
     "name": "stdout",
     "output_type": "stream",
     "text": [
      "Accuracy with Euclidean distance (without sklearn): 0.6461538461538462\n"
     ]
    }
   ],
   "source": [
    "import pandas as pd\n",
    "import numpy as np\n",
    "from sklearn.model_selection import train_test_split\n",
    "from collections import Counter\n",
    "\n",
    "\n",
    "def euclidean(x1,x2):\n",
    "    return np.sqrt(np.sum((x1-x2) ** 2))\n",
    "\n",
    "def manhattan(x1,x2):\n",
    "    return np.sqrt(np.abs(x1-x2))\n",
    "\n",
    "\n",
    "class KNN:\n",
    "    def __init__(self,k,distance_func):\n",
    "        self.k=k\n",
    "        self.distance_func=distance_func\n",
    "        \n",
    "    \n",
    "    def fit(self,X,y):\n",
    "        self.X_train=X\n",
    "        self.y_train=y\n",
    "        \n",
    "    def predict(self,X):\n",
    "        predictions=[self._predict(x) for x in X]\n",
    "        return predictions\n",
    "    \n",
    "    def _predict(self,x):\n",
    "        distances=[self.distance_func(x,x11) for x11 in self.X_train]\n",
    "        k_indices=np.argsort(distances)[:self.k]\n",
    "        k_nearest_labels=[self.y_train[i] for i in k_indices]\n",
    "        most_common=Counter(k_nearest_labels).most_common()\n",
    "        return most_common[0][0]\n",
    "    \n",
    "    \n",
    "    \n",
    "\n",
    "df=pd.read_csv('glass.csv')\n",
    "y=df['Type']\n",
    "X=df.drop('Type',axis=1)\n",
    "X_train,X_test,y_train,y_test=train_test_split(X.values,y.values,test_size=0.3)\n",
    "\n",
    "clf_euclidean=KNN(k=3,distance_func=euclidean)\n",
    "clf_euclidean.fit(X_train,y_train)\n",
    "predictions_euclidean=clf_euclidean.predict(X_test)\n",
    "# accuracy_euclidean=np.sum(predictions_euclidean == y_test)/len(y_test)\n",
    "accuracy_euclidean=np.mean(predictions_euclidean == y_test)\n",
    "print(\"Accuracy with Euclidean distance (without sklearn):\", accuracy_euclidean)\n",
    "\n"
   ]
  },
  {
   "cell_type": "code",
   "execution_count": 9,
   "id": "0bb16b37",
   "metadata": {},
   "outputs": [
    {
     "name": "stdout",
     "output_type": "stream",
     "text": [
      "Accuracy with Euclidean distance (without sklearn): 0.676923076923077\n",
      "Accuracy with Manhattan distance (without sklearn): 0.7076923076923077\n"
     ]
    }
   ],
   "source": [
    "import numpy as np\n",
    "import pandas as pd\n",
    "from collections import Counter\n",
    "from sklearn.model_selection import train_test_split\n",
    "\n",
    "def euclidean_distance(x1, x2):\n",
    "    return np.sqrt(np.sum((x1 - x2) ** 2))\n",
    "\n",
    "class KNN:\n",
    "    def __init__(self, k, distance_fn):\n",
    "        self.k = k\n",
    "        self.distance_fn = distance_fn\n",
    "\n",
    "    def fit(self, X, y):\n",
    "        self.X_train = X\n",
    "        self.y_train = y\n",
    "\n",
    "    def predict(self, X):\n",
    "        predictions = [self._predict(x) for x in X]\n",
    "        return predictions\n",
    "\n",
    "    def _predict(self, x):\n",
    "        distances = [self.distance_fn(x, x_train) for x_train in self.X_train]\n",
    "        k_indices = np.argsort(distances)[:self.k]\n",
    "        k_nearest_labels = [self.y_train[i] for i in k_indices]\n",
    "        most_common = Counter(k_nearest_labels).most_common()\n",
    "        return most_common[0][0]\n",
    "\n",
    "df = pd.read_csv('glass.csv')\n",
    "y = df['Type']\n",
    "X = df.drop('Type', axis=1)\n",
    "X_train, X_test, y_train, y_test = train_test_split(X.values, y.values, test_size=0.3)\n",
    "\n",
    "# KNN with Euclidean distance\n",
    "clf_euclidean = KNN(k=3, distance_fn=euclidean_distance)\n",
    "clf_euclidean.fit(X_train, y_train)\n",
    "predictions_euclidean = clf_euclidean.predict(X_test)\n",
    "accuracy_euclidean = np.sum(predictions_euclidean == y_test) / len(y_test)\n",
    "print(\"Accuracy with Euclidean distance (without sklearn):\", accuracy_euclidean)\n",
    "\n",
    "# KNN with Manhattan distance\n",
    "def manhattan_distance(x1, x2):\n",
    "    return np.sum(np.abs(x1 - x2))\n",
    "\n",
    "clf_manhattan = KNN(k=3, distance_fn=manhattan_distance)\n",
    "clf_manhattan.fit(X_train, y_train)\n",
    "predictions_manhattan = clf_manhattan.predict(X_test)\n",
    "accuracy_manhattan = np.sum(predictions_manhattan == y_test) / len(y_test)\n",
    "print(\"Accuracy with Manhattan distance (without sklearn):\", accuracy_manhattan)"
   ]
  },
  {
   "cell_type": "code",
   "execution_count": null,
   "id": "8e2f3372",
   "metadata": {},
   "outputs": [],
   "source": []
  }
 ],
 "metadata": {
  "kernelspec": {
   "display_name": "Python 3 (ipykernel)",
   "language": "python",
   "name": "python3"
  },
  "language_info": {
   "codemirror_mode": {
    "name": "ipython",
    "version": 3
   },
   "file_extension": ".py",
   "mimetype": "text/x-python",
   "name": "python",
   "nbconvert_exporter": "python",
   "pygments_lexer": "ipython3",
   "version": "3.11.5"
  }
 },
 "nbformat": 4,
 "nbformat_minor": 5
}
